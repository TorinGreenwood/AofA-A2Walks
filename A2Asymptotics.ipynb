{
 "cells": [
  {
   "cell_type": "markdown",
   "metadata": {
    "collapsed": false
   },
   "source": [
    "# Companion code for Asymptotics of weighted reflectable walks in $A_2$ \\(extended abstract\\)\n",
    "\n",
    "### Torin Greenwood\n",
    "\n",
    "### Samuel Simon\n"
   ]
  },
  {
   "cell_type": "markdown",
   "metadata": {
    "collapsed": false
   },
   "source": [
    "This worksheet takes the Tandem stepset and computes the critical points and the asymptotics at each critical point."
   ]
  },
  {
   "cell_type": "markdown",
   "metadata": {
    "collapsed": false
   },
   "source": [
    "## Step 1: Expressing the walks as the diagonal of a rational generating function."
   ]
  },
  {
   "cell_type": "markdown",
   "metadata": {
    "collapsed": false
   },
   "source": [
    "The following code block is from Steve Melczer's book, An Invitation to Analytic Combinatorics.\n",
    "Code available online: [https://melczer.ca/files/TextbookCode/Chapter4/Example4\\-3\\-5\\-6\\-GeneratingWalkGroupsAndGFs.html](https://melczer.ca/files/TextbookCode/Chapter4/Example4-3-5-6-GeneratingWalkGroupsAndGFs.html)\n",
    "\n"
   ]
  },
  {
   "cell_type": "code",
   "execution_count": 3,
   "metadata": {
    "collapsed": false,
    "jupyter": {
     "source_hidden": false
    }
   },
   "outputs": [
   ],
   "source": [
    "# Enter the short step sets defining quadrant models with finite group\n",
    "N = (0,1); SS = (0,-1); E = (1,0); W = (-1,0);\n",
    "NE = (1,1); NW = (-1,1); SE = (1,-1); SW = (-1,-1);\n",
    "\n",
    "# Define functions to plot a step set, generate the group, orbit sum, and diagonal expression for a walk\n",
    "var('x,y,t,X,Y,a,b')\n",
    "\n",
    "# Plot a step set S\n",
    "def plot_steps(S):\n",
    "    pt = sum([arrow((0,0),s) for s in S])\n",
    "    pt.set_aspect_ratio(1)\n",
    "    return pt\n",
    "\n",
    "# Generate the group of a walk (up to a fixed number of elements)\n",
    "def genGP(ST):\n",
    "    # Get the characteristic polynomial of the model\n",
    "    S = sum([X^i*Y^j for [i,j] in ST])\n",
    "\n",
    "    # Define the rational maps for the lattice path model\n",
    "    Am1 = S.coefficient(Y,-1);  A0 = S.coefficient(Y,0);  A1 = S.coefficient(Y,1)\n",
    "    Bm1 = S.coefficient(X,-1);  B0 = S.coefficient(X,0);  B1 = S.coefficient(X,1)\n",
    "    def Ψ(SS): return [L.subs(X=SS[0],Y=SS[1]).simplify() for L in [(1/X)*Bm1/B1,Y]]\n",
    "    def Φ(SS): return [L.subs(X=SS[0],Y=SS[1]).simplify() for L in [X,(1/Y)*Am1/A1]]\n",
    "\n",
    "    # Keep applying the maps until the set stabilizes or gets larger than a fixed bound\n",
    "    List = [ ([],[x,y]) ]\n",
    "    N = -1\n",
    "    while (N != len(List)) and (len(List) < 10):\n",
    "        N = len(List)\n",
    "        for i in List:\n",
    "            newI = true\n",
    "            newP = true\n",
    "\n",
    "            t2I = [k.simplify_full() for k in Ψ(i[1])]\n",
    "            t2P = [k.simplify_full() for k in Φ(i[1])]\n",
    "\n",
    "            for k in List:\n",
    "                if k[1] == t2I:\n",
    "                    newI = false\n",
    "                if k[1] == t2P:\n",
    "                    newP = false\n",
    "                if not (newI or newP):\n",
    "                    break\n",
    "\n",
    "            if newI:\n",
    "                List = List + [(['Ψ'] + i[0],t2I)]\n",
    "            if newP:\n",
    "                List = List + [(['Φ'] + i[0],t2P)]\n",
    "            if len(List) >= 10:\n",
    "                break\n",
    "\n",
    "    if len(List) >= 10:\n",
    "         print(\"Warning: Group size is larger than test bound, and may be infinite\")\n",
    "    return List\n",
    "\n",
    "# Get orbit sum\n",
    "def OrbitSum(ST):\n",
    "    K = 1-t*add([x^i*y^j for [i,j] in ST])\n",
    "    LST = genGP(ST)\n",
    "\n",
    "    # Sum the Kernel Equation after it's acted upon by the group elements\n",
    "    function('F')(Y)\n",
    "    function('G')(X)\n",
    "    function('Q')(X,Y)\n",
    "    var('Kk')\n",
    "\n",
    "    EQ = Kk*X*Y*Q(X,Y) == X*Y + F(Y) + G(X)\n",
    "    orb_eq = add([EQ.substitute(X=k[0],Y=k[1])*(-1)^len(i) for [i,k] in LST]).simplify()\n",
    "\n",
    "    # Return the right-hand side after dividing by the kernel\n",
    "    orb_sum = (orb_eq.rhs()/(K*x*y)).factor()\n",
    "    return orb_sum\n",
    "\n",
    "# Convert orbit sum into rational diagonal expression\n",
    "def RatDiag(ST):\n",
    "    return (OrbitSum(ST).subs(x=1/x,y=1/y,t=x*y*t)/(1-x)/(1-y)).factor()"
   ]
  },
  {
   "cell_type": "code",
   "execution_count": 4,
   "metadata": {
    "collapsed": false
   },
   "outputs": [
   ],
   "source": [
    "# We'll also use a weighted version:\n",
    "def WeightedRatDiag(ST):\n",
    "    return (OrbitSum(ST).subs(x=a/x,y=b/y,t=x*y*t)/(1-x)/(1-y)).factor()"
   ]
  },
  {
   "cell_type": "markdown",
   "metadata": {
    "collapsed": false
   },
   "source": [
    "### Computing the GF:\n",
    "\n"
   ]
  },
  {
   "cell_type": "code",
   "execution_count": 5,
   "metadata": {
    "collapsed": false
   },
   "outputs": [
    {
     "data": {
      "image/png": "[encoded data removed]",
      "text/plain": [
       "Graphics object consisting of 3 graphics primitives"
      ]
     },
     "execution_count": 5,
     "metadata": {
     },
     "output_type": "execute_result"
    },
    {
     "name": "stdout",
     "output_type": "stream",
     "text": [
      "(b^2*x - a*y^2)*(b*x^2 - a^2*y)*(a*b - x*y)/((b^2*t*x^2 + a^2*b*t*y + a*t*x*y^2 - a*b)*a^2*b^2*(x - 1)*x*(y - 1)*y)\n"
     ]
    }
   ],
   "source": [
    "# Now, to compute the GF for the Tandem model:\n",
    "steps = [E,NW,SS]\n",
    "show(plot_steps(steps),figsize=2, axes=false)\n",
    "OrbitSum(steps)\n",
    "print(WeightedRatDiag(steps))"
   ]
  },
  {
   "cell_type": "code",
   "execution_count": 6,
   "metadata": {
    "collapsed": false
   },
   "outputs": [
   ],
   "source": [
    "G = (b^2*x - a*y^2)*(b*x^2 - a^2*y)*(a*b - x*y)\n",
    "H = ((b^2*t*x^2 + a^2*b*t*y + a*t*x*y^2 - a*b)*a^2*b^2*(x - 1)*x*(y - 1)*y)"
   ]
  },
  {
   "cell_type": "markdown",
   "metadata": {
    "collapsed": false
   },
   "source": [
    "## Step 2: Finding Critical Points\n",
    "\n"
   ]
  },
  {
   "cell_type": "markdown",
   "metadata": {
    "collapsed": false
   },
   "source": [
    "We again borrow code from Steve Melczer's book to compute critical points and smooth asymptotics.\n",
    "The code is available online here:\n",
    "https://melczer.ca/files/TextbookCode/Chapter5/Example5-SmoothASM.html"
   ]
  },
  {
   "cell_type": "code",
   "execution_count": 7,
   "metadata": {
    "collapsed": false,
    "jupyter": {
     "source_hidden": false
    }
   },
   "outputs": [
   ],
   "source": [
    "# Set a parameter to help simplify some algebraic numbers\n",
    "maxima_calculus('algebraic: true;')\n",
    "\n",
    "# Procedure to get Hessian appearing in asymptotics\n",
    "# Input: H, member of the symbolic ring\n",
    "#        r, direction vector (which can contain symbolic entries)\n",
    "#        vars, vector of variables\n",
    "#        CP, a dictionary mapping elements of vars\n",
    "# Output: The Hessian H defined in Lemma 5.5 of the textbook at the point w defined by CP\n",
    "def getHes(H,r,vars,CP):\n",
    "    dd = len(vars)\n",
    "    V = zero_vector(SR,dd)\n",
    "    U = matrix(SR,dd)\n",
    "    M = matrix(SR,dd-1)\n",
    "\n",
    "    for j in range(dd):\n",
    "        V[j] = r[j]/r[-1]\n",
    "        for i in range(dd):\n",
    "            U[i,j] = vars[i]*vars[j]*diff(H,vars[i],vars[j])/vars[-1]/diff(H,vars[-1])\n",
    "    for i in range(dd-1):\n",
    "        for j in range(dd-1):\n",
    "            M[i,j] = V[i]*V[j] + U[i,j] - V[j]*U[i,-1] - V[i]*U[j,-1] + V[i]*V[j]*U[-1,-1]\n",
    "            if i == j: M[i,j] = M[i,j] + V[i]\n",
    "    return M(CP)\n",
    "\n",
    "# Procedure to apply differential operator to f and set all variables to zero\n",
    "# Input: dop, element of a DifferentialWeylAlgebra over a polynomial ring\n",
    "#        f, an element of the base polynomial ring of dop\n",
    "# Output: dop(f) evaluated when all variables are zero\n",
    "def eval_op(dop, f):\n",
    "    if len(f.parent().gens()) == 1:\n",
    "        return add([prod([factorial(k) for k in E[0][1]])*E[1]*f[E[0][1][0]] for E in dop])\n",
    "    else:\n",
    "        return add([prod([factorial(k) for k in E[0][1]])*E[1]*f[(v for v in E[0][1])] for E in dop])\n",
    "\n",
    "# Procedure to get critical points of rational function with denominator H, in direction r\n",
    "# Input: H, member of the symbolic ring\n",
    "#        r, direction vector (which can contain symbolic entries)\n",
    "#        vars, vector of variables\n",
    "# Output: Solutions (if found by solve) of the smooth critical point equations of H in the direction r\n",
    "def critpt(H,r,vars):\n",
    "    d = len(vars)\n",
    "    criteqs = [r[j]*vars[0]*diff(H,vars[0]) - r[0]*vars[j]*diff(H,vars[j]) for j in range(1,d)] + [H]\n",
    "    # For reasons that remain mysterious to TG & SS, the [H] term needed to be moved to the end of the\n",
    "    # line above to avoid missing some solutions.\n",
    "    return solve(criteqs,vars,solution_dict=true)\n",
    "\n",
    "\n",
    "\n",
    "# Procedure to compute asymptotic contribution of a strictly minimal contributing point\n",
    "# Input: G, member of the symbolic ring\n",
    "#        H, member of the symbolic ring\n",
    "#        r, direction vector (which can contain symbolic entries)\n",
    "#        vars, vector of variables\n",
    "#        CP, a dictionary mapping elements of vars to coordinates of a strictly minimal contributing point\n",
    "#        M, positive integer describing the number of terms in the asymptotic expansion to compute\n",
    "#        g, parametrization of variable vars[-1] near CP, in terms of the remaining variables\n",
    "# Output: ex, pw, se such that ex*pw*(se+O(n^(M-1)) gives an asymptotic expansion of the r-diagonal of \n",
    "#         G/H in the variables vars, to order M.\n",
    "# NOTE: Unlike the textbook, M here refers to the number of terms in the expansion\n",
    "#       (not the order of the expansion, so M should be at least 1)\n",
    "def smoothContrib(G,H,r,vars,CP,M,g):\n",
    "    # Preliminary definitions\n",
    "    dd = len(vars)\n",
    "    field = SR\n",
    "    tvars = list(var('t%d'%i) for i in range(dd-1))\n",
    "    dvars = list(var('dt%d'%i) for i in range(dd-1))\n",
    "\n",
    "    # Define differential Weyl algebra and set variable names\n",
    "    W = DifferentialWeylAlgebra(PolynomialRing(field,tvars))\n",
    "    WR = W.base_ring()\n",
    "    T = PolynomialRing(field,tvars).gens()\n",
    "    D = list(W.differentials())\n",
    "\n",
    "    # Compute Hessian matrix and differential operator Epsilon\n",
    "    HES = getHes(H,r,vars,CP)\n",
    "    HESinv = HES.inverse()\n",
    "    v = matrix(W,[D[k] for k in range(dd-1)])\n",
    "    Epsilon = -(v * HESinv.change_ring(W) * v.transpose())[0,0]\n",
    "\n",
    "    # Define quantities for calculating asymptotics\n",
    "    tsubs = [v == v.subs(CP)*exp(I*t) for [v,t] in zip(vars,tvars)]\n",
    "    tsubs += [vars[-1]==g.subs(tsubs)]\n",
    "    P = (-G/g/diff(H,vars[-1])).subs(tsubs)\n",
    "    psi = log(g.subs(tsubs)/g.subs(CP)) + I * add([r[k]*tvars[k] for k in range(dd-1)])/r[-1]\n",
    "    v = matrix(SR,[tvars[k] for k in range(dd-1)])\n",
    "    psiTilde = psi - (v * HES * v.transpose())[0,0]/2\n",
    "\n",
    "    # Recursive function to convert symbolic expression to polynomial in t variables\n",
    "    def to_poly(p,k):\n",
    "        if k == 0:\n",
    "            return add([a*T[k]^int(b) for [a,b] in p.coefficients(tvars[k])])\n",
    "        return add([to_poly(a,k-1)*T[k]^int(b) for [a,b] in p.coefficients(tvars[k])])\n",
    "\n",
    "    # Compute Taylor expansions to sufficient orders\n",
    "    N = 2*M\n",
    "    PsiSeries = to_poly(taylor(psiTilde,*((v,0) for v in tvars), N),dd-2)\n",
    "    PSeries = to_poly(taylor(P,*((v,0) for v in tvars), N),dd-2)\n",
    "\n",
    "    # Precompute products used for asymptotics\n",
    "    EE = [Epsilon^k for k in range(3*M-2)]\n",
    "    PP = [PSeries] + [0 for k in range(2*M-2)]\n",
    "    for k in range(1,2*M-1):\n",
    "        PP[k] = PP[k-1]*PsiSeries\n",
    "    \n",
    "    # Function to compute constants appearing in asymptotic expansion\n",
    "    def Clj(l,j):\n",
    "        return (-1)^j*SR(eval_op(EE[l+j],PP[l]))/(2^(l+j)*factorial(l)*factorial(l+j))\n",
    "    \n",
    "    # Compute different parts of asymptotic expansion\n",
    "    var('n')\n",
    "    ex = (prod([1/v^k for (v,k) in zip(vars,r)]).subs(CP).canonicalize_radical())^n\n",
    "    pw = (r[-1]*n)^((1-dd)/2)\n",
    "    se = sqrt((2*pi)^(1-dd)/HES.det()) * add([add([Clj(l,j) for l in range(2*j+1)])/(r[-1]*n)^j for j in range(M)])\n",
    "    \n",
    "    return ex, pw, se.canonicalize_radical()\n",
    "\n",
    "# Procedure to aid in printing an asymptotic expansion\n",
    "# Procedure to get critical points of rational function with denominator H, in direction r\n",
    "# Input: ex,pw,se as returned by smoothContrib(G,H,r,vars,CP,M,g)\n",
    "# Output: None (function pretty prints the asymptotic expression defined by ex,pw,se, and M)\n",
    "def disp_asm(ex,pw,se,M):\n",
    "    show(ex*pw,LatexExpr(\"\\\\Bigg(\"), se, LatexExpr(\"+ O\\\\Bigg(\"), n^(-M), LatexExpr(\"\\\\Bigg)\\\\Bigg)\"))"
   ]
  },
  {
   "cell_type": "markdown",
   "metadata": {
    "collapsed": false
   },
   "source": [
    "### Computing the critical points:"
   ]
  },
  {
   "cell_type": "code",
   "execution_count": 8,
   "metadata": {
    "collapsed": false
   },
   "outputs": [
    {
     "name": "stdout",
     "output_type": "stream",
     "text": [
      "Define V_0 to be the vanishing set of the main factor of H, V_1 to be the vanishing set of 1 - x, and V_2 to be the vanishing set of 1 - y.\n",
      "-----------------------------------------------------------------------\n",
      "Critical points for S_0: \n"
     ]
    },
    {
     "data": {
      "text/html": [
       "<html>\\(\\displaystyle \\left[\\left\\{x : a, y : b, t : \\frac{1}{3 \\, a b}\\right\\}, \\left\\{x : \\frac{1}{2} \\, a {\\left(i \\, \\sqrt{3} - 1\\right)}, y : -\\frac{1}{2} \\, b {\\left(i \\, \\sqrt{3} + 1\\right)}, t : \\frac{i \\, \\sqrt{3} - 1}{6 \\, a b}\\right\\}, \\left\\{x : -\\frac{1}{2} \\, a {\\left(i \\, \\sqrt{3} + 1\\right)}, y : \\frac{1}{2} \\, b {\\left(i \\, \\sqrt{3} - 1\\right)}, t : \\frac{-i \\, \\sqrt{3} - 1}{6 \\, a b}\\right\\}\\right]\\)</html>"
      ],
      "text/latex": [
       "$\\displaystyle \\left[\\left\\{x : a, y : b, t : \\frac{1}{3 \\, a b}\\right\\}, \\left\\{x : \\frac{1}{2} \\, a {\\left(i \\, \\sqrt{3} - 1\\right)}, y : -\\frac{1}{2} \\, b {\\left(i \\, \\sqrt{3} + 1\\right)}, t : \\frac{i \\, \\sqrt{3} - 1}{6 \\, a b}\\right\\}, \\left\\{x : -\\frac{1}{2} \\, a {\\left(i \\, \\sqrt{3} + 1\\right)}, y : \\frac{1}{2} \\, b {\\left(i \\, \\sqrt{3} - 1\\right)}, t : \\frac{-i \\, \\sqrt{3} - 1}{6 \\, a b}\\right\\}\\right]$"
      ],
      "text/plain": [
       "[{x: a, y: b, t: 1/3/(a*b)},\n",
       " {x: 1/2*a*(I*sqrt(3) - 1),\n",
       "  y: -1/2*b*(I*sqrt(3) + 1),\n",
       "  t: 1/6*(I*sqrt(3) - 1)/(a*b)},\n",
       " {x: -1/2*a*(I*sqrt(3) + 1),\n",
       "  y: 1/2*b*(I*sqrt(3) - 1),\n",
       "  t: 1/6*(-I*sqrt(3) - 1)/(a*b)}]"
      ]
     },
     "execution_count": 8,
     "metadata": {
     },
     "output_type": "execute_result"
    },
    {
     "name": "stdout",
     "output_type": "stream",
     "text": [
      "-----------------------------------------------------------------------\n",
      "Critical points for S_{0, 1}:\n"
     ]
    },
    {
     "data": {
      "text/html": [
       "<html>\\(\\displaystyle \\left[\\left\\{y : -\\frac{b}{\\sqrt{a}}, t : -\\frac{a^{\\frac{5}{2}} + 2 \\, a}{{\\left(a^{3} - 4\\right)} b}\\right\\}, \\left\\{y : \\frac{b}{\\sqrt{a}}, t : \\frac{a^{\\frac{5}{2}} - 2 \\, a}{{\\left(a^{3} - 4\\right)} b}\\right\\}\\right]\\)</html>"
      ],
      "text/latex": [
       "$\\displaystyle \\left[\\left\\{y : -\\frac{b}{\\sqrt{a}}, t : -\\frac{a^{\\frac{5}{2}} + 2 \\, a}{{\\left(a^{3} - 4\\right)} b}\\right\\}, \\left\\{y : \\frac{b}{\\sqrt{a}}, t : \\frac{a^{\\frac{5}{2}} - 2 \\, a}{{\\left(a^{3} - 4\\right)} b}\\right\\}\\right]$"
      ],
      "text/plain": [
       "[{y: -b/sqrt(a), t: -(a^(5/2) + 2*a)/((a^3 - 4)*b)},\n",
       " {y: b/sqrt(a), t: (a^(5/2) - 2*a)/((a^3 - 4)*b)}]"
      ]
     },
     "execution_count": 8,
     "metadata": {
     },
     "output_type": "execute_result"
    },
    {
     "name": "stdout",
     "output_type": "stream",
     "text": [
      "-----------------------------------------------------------------------\n",
      "Critical points for S_{0, 2}:\n"
     ]
    },
    {
     "data": {
      "text/html": [
       "<html>\\(\\displaystyle \\left[\\left\\{x : \\frac{a}{\\sqrt{b}}, t : \\frac{2 \\, b^{3} - b^{\\frac{3}{2}}}{4 \\, a b^{3} - a}\\right\\}, \\left\\{x : -\\frac{a}{\\sqrt{b}}, t : \\frac{2 \\, b^{3} + b^{\\frac{3}{2}}}{4 \\, a b^{3} - a}\\right\\}\\right]\\)</html>"
      ],
      "text/latex": [
       "$\\displaystyle \\left[\\left\\{x : \\frac{a}{\\sqrt{b}}, t : \\frac{2 \\, b^{3} - b^{\\frac{3}{2}}}{4 \\, a b^{3} - a}\\right\\}, \\left\\{x : -\\frac{a}{\\sqrt{b}}, t : \\frac{2 \\, b^{3} + b^{\\frac{3}{2}}}{4 \\, a b^{3} - a}\\right\\}\\right]$"
      ],
      "text/plain": [
       "[{x: a/sqrt(b), t: (2*b^3 - b^(3/2))/(4*a*b^3 - a)},\n",
       " {x: -a/sqrt(b), t: (2*b^3 + b^(3/2))/(4*a*b^3 - a)}]"
      ]
     },
     "execution_count": 8,
     "metadata": {
     },
     "output_type": "execute_result"
    },
    {
     "name": "stdout",
     "output_type": "stream",
     "text": [
      "-----------------------------------------------------------------------\n",
      "Critical points for S_{0, 1, 2}:\n"
     ]
    },
    {
     "data": {
      "text/html": [
       "<html>\\(\\displaystyle \\left[\\left\\{t : \\frac{a b}{a^{2} b + b^{2} + a}\\right\\}\\right]\\)</html>"
      ],
      "text/latex": [
       "$\\displaystyle \\left[\\left\\{t : \\frac{a b}{a^{2} b + b^{2} + a}\\right\\}\\right]$"
      ],
      "text/plain": [
       "[{t: a*b/(a^2*b + b^2 + a)}]"
      ]
     },
     "execution_count": 8,
     "metadata": {
     },
     "output_type": "execute_result"
    }
   ],
   "source": [
    "# Here, we consider each stratum individually and compute critical points in the direction of the main diagonal, [1, 1, 1]\n",
    "# First, we pull aside the main factor of the denominator:\n",
    "Denom = (b^2*t*x^2 + a^2*b*t*y + a*t*x*y^2 - a*b)\n",
    "r = [1,1,1]\n",
    "vars = [x,y,t]\n",
    "print(\"Define V_0 to be the vanishing set of the main factor of H, V_1 to be the vanishing set of 1 - x, and V_2 to be the vanishing set of 1 - y.\")\n",
    "print('-----------------------------------------------------------------------')\n",
    "print(\"Critical points for S_0: \")\n",
    "show(critpt(Denom,r,vars))\n",
    "print('-----------------------------------------------------------------------')\n",
    "print(\"Critical points for S_{0, 1}:\")\n",
    "show(critpt(Denom.subs(x=1),[1,1],[y,t]))\n",
    "print('-----------------------------------------------------------------------')\n",
    "print(\"Critical points for S_{0, 2}:\")\n",
    "show(critpt(Denom.subs(y=1),[1,1],[x,t]))\n",
    "print('-----------------------------------------------------------------------')\n",
    "print(\"Critical points for S_{0, 1, 2}:\")\n",
    "show(critpt(Denom.subs(x=1,y=1),[1],[t]))"
   ]
  },
  {
   "cell_type": "markdown",
   "metadata": {
    "collapsed": false
   },
   "source": [
    "## Step 3: Contributions to Asymptotics\n",
    "\n"
   ]
  },
  {
   "cell_type": "raw",
   "metadata": {
    "collapsed": false
   },
   "source": [
    "Now we compute the asymptotics for each regime.\n",
    "Each cell computes the asymptotics using residues and Hörmanders theorem (implemented via Steve's code from above)."
   ]
  },
  {
   "cell_type": "markdown",
   "metadata": {
    "collapsed": false
   },
   "source": [
    "### Free: $1 < \\sqrt(b) < a < b^2$"
   ]
  },
  {
   "cell_type": "code",
   "execution_count": 36,
   "metadata": {
    "collapsed": false
   },
   "outputs": [
    {
     "name": "stdout",
     "output_type": "stream",
     "text": [
      "The GF after two residues:\n"
     ]
    },
    {
     "data": {
      "text/html": [
       "<html>\\(\\displaystyle -\\frac{{\\left(a^{2} - b\\right)} {\\left(a b - 1\\right)} {\\left(b^{2} - a\\right)}}{{\\left(a^{2} b t + b^{2} t - a b + a t\\right)} a^{2} b^{2}}\\)</html>"
      ],
      "text/latex": [
       "$\\displaystyle -\\frac{{\\left(a^{2} - b\\right)} {\\left(a b - 1\\right)} {\\left(b^{2} - a\\right)}}{{\\left(a^{2} b t + b^{2} t - a b + a t\\right)} a^{2} b^{2}}$"
      ],
      "text/plain": [
       "-(a^2 - b)*(a*b - 1)*(b^2 - a)/((a^2*b*t + b^2*t - a*b + a*t)*a^2*b^2)"
      ]
     },
     "execution_count": 36,
     "metadata": {
     },
     "output_type": "execute_result"
    },
    {
     "name": "stdout",
     "output_type": "stream",
     "text": [
      "Asymptotics in the free case:\n"
     ]
    },
    {
     "data": {
      "text/html": [
       "<html>\\(\\displaystyle \\frac{{\\left(a^{2} - b\\right)} {\\left(a b - 1\\right)} {\\left(b^{2} - a\\right)} {\\left(a + \\frac{b}{a} + \\frac{1}{b}\\right)}^{n}}{a^{3} b^{3}} \\Bigg( 1 + O\\Bigg( \\frac{1}{n} \\Bigg)\\Bigg)\\)</html>"
      ],
      "text/latex": [
       "$\\displaystyle \\frac{{\\left(a^{2} - b\\right)} {\\left(a b - 1\\right)} {\\left(b^{2} - a\\right)} {\\left(a + \\frac{b}{a} + \\frac{1}{b}\\right)}^{n}}{a^{3} b^{3}} \\Bigg( 1 + O\\Bigg( \\frac{1}{n} \\Bigg)\\Bigg)$"
      ],
      "text/plain": [
       "(a^2 - b)*(a*b - 1)*(b^2 - a)*(a + b/a + 1/b)^n/(a^3*b^3) \\Bigg( 1 + O\\Bigg( 1/n \\Bigg)\\Bigg)"
      ]
     },
     "execution_count": 36,
     "metadata": {
     },
     "output_type": "execute_result"
    }
   ],
   "source": [
    "# Here, after taking two residues, we are left with the following:\n",
    "Gxy = G.subs(x=1,y=1)\n",
    "Hxy = (H/((1-x)*(1-y))).subs(x=1, y=1).factor()\n",
    "\n",
    "print(\"The GF after two residues:\")\n",
    "show(Gxy/Hxy)\n",
    "print(\"Asymptotics in the free case:\")\n",
    "# Expanding this as a geometric series in t gives an nth coefficient as follows:\n",
    "ex = (1/b + b/a + a)^n # from rearranging the t factor in Hxy and removing a factor of a*b\n",
    "pw = (a^2 - b)*(a*b-1)*(b^2-a)/(a^3*b^3)\n",
    "se = 1\n",
    "\n",
    "disp_asm(ex, pw, se.factor(), 1)"
   ]
  },
  {
   "cell_type": "markdown",
   "metadata": {
    "collapsed": false
   },
   "source": [
    "### Axial: $a = b^2 > 1$"
   ]
  },
  {
   "cell_type": "code",
   "execution_count": 38,
   "metadata": {
    "collapsed": false
   },
   "outputs": [
    {
     "name": "stdout",
     "output_type": "stream",
     "text": [
      "The axial case, when a = b^2 > 1:\n"
     ]
    },
    {
     "data": {
      "text/html": [
       "<html>\\(\\displaystyle \\frac{\\left(\\frac{a^{2} + 2 \\, \\sqrt{a}}{a}\\right)^{n}}{\\sqrt{n}} \\Bigg( \\frac{{\\left(a^{3} - 2 \\, a^{\\frac{3}{2}} + 1\\right)} \\sqrt{a^{\\frac{3}{2}} + 2}}{\\sqrt{\\pi} a^{3}} + O\\Bigg( \\frac{1}{n} \\Bigg)\\Bigg)\\)</html>"
      ],
      "text/latex": [
       "$\\displaystyle \\frac{\\left(\\frac{a^{2} + 2 \\, \\sqrt{a}}{a}\\right)^{n}}{\\sqrt{n}} \\Bigg( \\frac{{\\left(a^{3} - 2 \\, a^{\\frac{3}{2}} + 1\\right)} \\sqrt{a^{\\frac{3}{2}} + 2}}{\\sqrt{\\pi} a^{3}} + O\\Bigg( \\frac{1}{n} \\Bigg)\\Bigg)$"
      ],
      "text/plain": [
       "((a^2 + 2*sqrt(a))/a)^n/sqrt(n) \\Bigg( (a^3 - 2*a^(3/2) + 1)*sqrt(a^(3/2) + 2)/(sqrt(pi)*a^3) + O\\Bigg( 1/n \\Bigg)\\Bigg)"
      ]
     },
     "execution_count": 38,
     "metadata": {
     },
     "output_type": "execute_result"
    }
   ],
   "source": [
    "M=1\n",
    "# On this boundary the factor (b^2*x - a*y^2) becomes a(x-y^2). Since the critical point is at x=1, we take a residue in x at 1, so this factor becomes a(1-y^2). Now we cancel with a factor of (1-y) in the denominator. \n",
    "\n",
    "Gxf1 = (a*((b*x^2 - a^2*y)*(a*b - x*y))*(y+1)).subs(x=1,b=sqrt(a))\n",
    "Hxf1 = (H/((1-y)*(1-x))).subs(x=1,b=sqrt(a)) #I took out the factor of (1-y) and cancelled it in the numerator\n",
    "tsubs = ((a^(5/2) - 2*a)/((a^3 - 4)*b)).subs(b=sqrt(a))\n",
    "        \n",
    "gx = solve(Hxf1.subs(x=1,b=sqrt(a)),varsx[-1])[0].rhs()\n",
    "CP6 = {y: 1, t: tsubs}\n",
    "\n",
    "ex,pw,se = smoothContrib(Gxf1,Hxf1,rx,varsx,CP6,M,gx)\n",
    "print(\"Asymptotics for the axial case, when a = b^2 > 1:\")\n",
    "disp_asm(ex,pw,se.factor(),M)"
   ]
  },
  {
   "cell_type": "markdown",
   "metadata": {
    "collapsed": false
   },
   "source": [
    "### Axial: $b = a^2 > 1$"
   ]
  },
  {
   "cell_type": "code",
   "execution_count": 39,
   "metadata": {
    "collapsed": false
   },
   "outputs": [
    {
     "name": "stdout",
     "output_type": "stream",
     "text": [
      "Asymptotics for the axial case, when b = a^2 > 1:\n"
     ]
    },
    {
     "data": {
      "text/html": [
       "<html>\\(\\displaystyle \\frac{\\left(\\frac{2 \\, b^{\\frac{3}{2}} + 1}{b}\\right)^{n}}{\\sqrt{n}} \\Bigg( \\frac{{\\left(b^{3} - 2 \\, b^{\\frac{3}{2}} + 1\\right)} \\sqrt{2 \\, b^{2} + \\sqrt{b}}}{\\sqrt{\\pi} b^{4}} + O\\Bigg( \\frac{1}{n} \\Bigg)\\Bigg)\\)</html>"
      ],
      "text/latex": [
       "$\\displaystyle \\frac{\\left(\\frac{2 \\, b^{\\frac{3}{2}} + 1}{b}\\right)^{n}}{\\sqrt{n}} \\Bigg( \\frac{{\\left(b^{3} - 2 \\, b^{\\frac{3}{2}} + 1\\right)} \\sqrt{2 \\, b^{2} + \\sqrt{b}}}{\\sqrt{\\pi} b^{4}} + O\\Bigg( \\frac{1}{n} \\Bigg)\\Bigg)$"
      ],
      "text/plain": [
       "((2*b^(3/2) + 1)/b)^n/sqrt(n) \\Bigg( (b^3 - 2*b^(3/2) + 1)*sqrt(2*b^2 + sqrt(b))/(sqrt(pi)*b^4) + O\\Bigg( 1/n \\Bigg)\\Bigg)"
      ]
     },
     "execution_count": 39,
     "metadata": {
     },
     "output_type": "execute_result"
    }
   ],
   "source": [
    "M=1\n",
    "# On this boundary the factor (b*x^2 - a^2*y) becomes b(x^2-y). Since the critical point is at y=1, we take a residue in y at 1, so this factor becomes b(x^2-1). Now we cancel with a factor of (1-y) in the denominator. \n",
    "Gy = -((b^2*x - a*y^2)*(x+1)*b*(a*b - x*y)).subs(y=1,a=sqrt(b))\n",
    "Hy = ((H/((1-y)*(1-x)))).subs(y=1,a=sqrt(b))\n",
    "tsubs = ((2*b^3 - b^(3/2))/(4*a*b^3 - a)).subs(a=sqrt(b))\n",
    "\n",
    "gy = solve((Hy).subs(y=1,a=sqrt(b)),varsx[-1])[0].rhs()\n",
    "CP5 = {x: 1, y: 1, t: tsubs}\n",
    "\n",
    "ex,pw,se = smoothContrib(Gy,Hy,ry,varsy,CP5,M,gy)\n",
    "print(\"Asymptotics for the axial case, when b = a^2 > 1:\")\n",
    "disp_asm(ex,pw,se.factor(),M)"
   ]
  },
  {
   "cell_type": "markdown",
   "metadata": {
    "collapsed": false
   },
   "source": [
    "### Directed: $a > 1, b < \\sqrt{a}$\n",
    "\n"
   ]
  },
  {
   "cell_type": "code",
   "execution_count": 40,
   "metadata": {
    "collapsed": false
   },
   "outputs": [
    {
     "name": "stdout",
     "output_type": "stream",
     "text": [
      "Asymptotics for the directed case, when a > 1 and b < sqrt(a):\n"
     ]
    },
    {
     "data": {
      "text/html": [
       "<html>\\(\\displaystyle \\frac{\\left(\\frac{a^{2} + 2 \\, \\sqrt{a}}{a}\\right)^{n}}{\\sqrt{n}} \\Bigg( \\frac{{\\left(a^{\\frac{9}{2}} b^{2} + 2 \\, a^{5} b + a^{\\frac{11}{2}} - 3 \\, a^{\\frac{3}{2}} b^{2} - 6 \\, a^{2} b - 3 \\, a^{\\frac{5}{2}} + 2 \\, b^{2} + 4 \\, \\sqrt{a} b + 2 \\, a\\right)} \\sqrt{a^{\\frac{3}{2}} + 2}}{2 \\, \\sqrt{\\pi} {\\left(b^{2} - a\\right)}^{2} a^{2} n} + O\\Bigg( \\frac{1}{n^{2}} \\Bigg)\\Bigg)\\)</html>"
      ],
      "text/latex": [
       "$\\displaystyle \\frac{\\left(\\frac{a^{2} + 2 \\, \\sqrt{a}}{a}\\right)^{n}}{\\sqrt{n}} \\Bigg( \\frac{{\\left(a^{\\frac{9}{2}} b^{2} + 2 \\, a^{5} b + a^{\\frac{11}{2}} - 3 \\, a^{\\frac{3}{2}} b^{2} - 6 \\, a^{2} b - 3 \\, a^{\\frac{5}{2}} + 2 \\, b^{2} + 4 \\, \\sqrt{a} b + 2 \\, a\\right)} \\sqrt{a^{\\frac{3}{2}} + 2}}{2 \\, \\sqrt{\\pi} {\\left(b^{2} - a\\right)}^{2} a^{2} n} + O\\Bigg( \\frac{1}{n^{2}} \\Bigg)\\Bigg)$"
      ],
      "text/plain": [
       "((a^2 + 2*sqrt(a))/a)^n/sqrt(n) \\Bigg( 1/2*(a^(9/2)*b^2 + 2*a^5*b + a^(11/2) - 3*a^(3/2)*b^2 - 6*a^2*b - 3*a^(5/2) + 2*b^2 + 4*sqrt(a)*b + 2*a)*sqrt(a^(3/2) + 2)/(sqrt(pi)*(b^2 - a)^2*a^2*n) + O\\Bigg( n^(-2) \\Bigg)\\Bigg)"
      ]
     },
     "execution_count": 40,
     "metadata": {
     },
     "output_type": "execute_result"
    }
   ],
   "source": [
    "M=2\n",
    "# Since x=1 in the relevant critical point, we can use a residue, which amounts to evaluating the function at x=1 and removing the factor of (1-x) from the denominator\n",
    "Gx=G.subs(x=1)\n",
    "Hx = (H/(1-x)).subs(x=1)\n",
    "varsx = [y, t]\n",
    "rx = [1, 1]\n",
    "gx = solve((Hx).subs(x=1),varsx[-1])[0].rhs()\n",
    "CP4 = {y: b/sqrt(a), t: (a^(5/2) - 2*a)/((a^3 - 4)*b)}\n",
    "\n",
    "ex,pw,se = smoothContrib(Gx,Hx,rx,varsx,CP4,M,gx)\n",
    "print(\"Asymptotics for the directed case, when a > 1 and b < sqrt(a):\")\n",
    "disp_asm(ex,pw,se.factor(),M)"
   ]
  },
  {
   "cell_type": "markdown",
   "metadata": {
    "collapsed": false
   },
   "source": [
    "### Directed: $b > 1, a < \\sqrt{b}$"
   ]
  },
  {
   "cell_type": "code",
   "execution_count": 41,
   "metadata": {
    "collapsed": false
   },
   "outputs": [
    {
     "name": "stdout",
     "output_type": "stream",
     "text": [
      "Asymptotics for the directed case, when b > 1 and a < sqrt(b):\n"
     ]
    },
    {
     "data": {
      "text/html": [
       "<html>\\(\\displaystyle \\frac{\\left(\\frac{2 \\, b^{\\frac{3}{2}} + 1}{b}\\right)^{n}}{\\sqrt{n}} \\Bigg( \\frac{{\\left(2 \\, a^{2} b^{5} + 4 \\, a b^{\\frac{11}{2}} + 2 \\, b^{6} - 3 \\, a^{2} b^{\\frac{7}{2}} - 6 \\, a b^{4} - 3 \\, b^{\\frac{9}{2}} + a^{2} \\sqrt{b} + 2 \\, a b + b^{\\frac{3}{2}}\\right)} \\sqrt{2 \\, b^{2} + \\sqrt{b}}}{2 \\, \\sqrt{\\pi} {\\left(a^{2} - b\\right)}^{2} b^{5} n} + O\\Bigg( \\frac{1}{n^{2}} \\Bigg)\\Bigg)\\)</html>"
      ],
      "text/latex": [
       "$\\displaystyle \\frac{\\left(\\frac{2 \\, b^{\\frac{3}{2}} + 1}{b}\\right)^{n}}{\\sqrt{n}} \\Bigg( \\frac{{\\left(2 \\, a^{2} b^{5} + 4 \\, a b^{\\frac{11}{2}} + 2 \\, b^{6} - 3 \\, a^{2} b^{\\frac{7}{2}} - 6 \\, a b^{4} - 3 \\, b^{\\frac{9}{2}} + a^{2} \\sqrt{b} + 2 \\, a b + b^{\\frac{3}{2}}\\right)} \\sqrt{2 \\, b^{2} + \\sqrt{b}}}{2 \\, \\sqrt{\\pi} {\\left(a^{2} - b\\right)}^{2} b^{5} n} + O\\Bigg( \\frac{1}{n^{2}} \\Bigg)\\Bigg)$"
      ],
      "text/plain": [
       "((2*b^(3/2) + 1)/b)^n/sqrt(n) \\Bigg( 1/2*(2*a^2*b^5 + 4*a*b^(11/2) + 2*b^6 - 3*a^2*b^(7/2) - 6*a*b^4 - 3*b^(9/2) + a^2*sqrt(b) + 2*a*b + b^(3/2))*sqrt(2*b^2 + sqrt(b))/(sqrt(pi)*(a^2 - b)^2*b^5*n) + O\\Bigg( n^(-2) \\Bigg)\\Bigg)"
      ]
     },
     "execution_count": 41,
     "metadata": {
     },
     "output_type": "execute_result"
    }
   ],
   "source": [
    "M=2\n",
    "# Since y=1 in the relevant critical point we can use a residue, which amounts to evaluating the function at y=1 and removing the factor of (1-y) from the denominator\n",
    "Gy = G.subs(y=1)\n",
    "Hy = (H/(1-y)).subs(y=1)\n",
    "varsy=[x,t]\n",
    "ry = [1,1]\n",
    "gy = solve((Denom).subs(y=1),varsx[-1])[0].rhs()\n",
    "CP5 = {x: a/sqrt(b), y: 1, t: (2*b^3 - b^(3/2))/(4*a*b^3 - a)}\n",
    "ex,pw,se = smoothContrib(Gy,Hy,ry,varsy,CP5,M,gy)\n",
    "print(\"Asymptotics for the directed case, when b > 1 and a < sqrt(b):\")\n",
    "disp_asm(ex,pw,se.factor(),M)"
   ]
  },
  {
   "cell_type": "markdown",
   "metadata": {
    "collapsed": false
   },
   "source": [
    "### Balanced: $a = 1$ and $b = 1$"
   ]
  },
  {
   "cell_type": "code",
   "execution_count": 37,
   "metadata": {
    "collapsed": false
   },
   "outputs": [
    {
     "name": "stdout",
     "output_type": "stream",
     "text": [
      "Asymptotics in the balanced case:\n"
     ]
    },
    {
     "data": {
      "text/html": [
       "<html>\\(\\displaystyle \\frac{3^{n}}{\\sqrt{n}} \\Bigg( \\frac{3 \\, \\sqrt{3}}{2 \\, \\sqrt{\\pi} n} + O\\Bigg( \\frac{1}{n^{2}} \\Bigg)\\Bigg)\\)</html>"
      ],
      "text/latex": [
       "$\\displaystyle \\frac{3^{n}}{\\sqrt{n}} \\Bigg( \\frac{3 \\, \\sqrt{3}}{2 \\, \\sqrt{\\pi} n} + O\\Bigg( \\frac{1}{n^{2}} \\Bigg)\\Bigg)$"
      ],
      "text/plain": [
       "3^n/sqrt(n) \\Bigg( 3/2*sqrt(3)/(sqrt(pi)*n) + O\\Bigg( n^(-2) \\Bigg)\\Bigg)"
      ]
     },
     "execution_count": 37,
     "metadata": {
     },
     "output_type": "execute_result"
    }
   ],
   "source": [
    "M=2\n",
    "Gy = (G/(1-x)).subs(a=1,b=1,y=1) #plug in y=1 using residue, then cancel 1-x term\n",
    "Hy = (H/((1-x)*(1-y))).subs(y=1,b=1,a=1)\n",
    "\n",
    "gy = solve((Denom).subs(y=1,b=1,a=1),varsx[-1])[0].rhs()\n",
    "CP5 = {x: 1, t: 1/3}\n",
    "\n",
    "ex,pw,se = smoothContrib(Gy,Hy,ry,varsy,CP5,M,gy)\n",
    "print(\"Asymptotics in the balanced case:\")\n",
    "disp_asm(ex,pw,se.factor(),M)"
   ]
  },
  {
   "cell_type": "markdown",
   "metadata": {
    "collapsed": false
   },
   "source": [
    "### Reluctant: $a < 1$ and $b < 1$"
   ]
  },
  {
   "cell_type": "code",
   "execution_count": 7,
   "metadata": {
    "collapsed": false
   },
   "outputs": [
   ],
   "source": [
    "M=4\n",
    "\n",
    "CP1 = {x: a, y:b, t:1/3/(a*b)}\n",
    "CP2 = {x: -1/2*a*(I*sqrt(3) + 1), y:1/2*b*(I*sqrt(3) - 1), t:1/6*(I*sqrt(3) - 1)/(a*b)}\n",
    "CP3 = {x: 1/2*a*(I*sqrt(3) - 1), y:-1/2*b*(I*sqrt(3) + 1), t:1/6*(-I*sqrt(3) - 1)/(a*b)}\n",
    "g = solve((Denom),vars[-1])[0].rhs()"
   ]
  },
  {
   "cell_type": "code",
   "execution_count": 11,
   "metadata": {
    "collapsed": false,
    "scrolled": true
   },
   "outputs": [
    {
     "name": "stdout",
     "output_type": "stream",
     "text": [
      "The asymptotics from the first critical point are:\n"
     ]
    },
    {
     "data": {
      "text/html": [
       "<html>\\(\\displaystyle \\frac{3^{n}}{n} \\Bigg( -\\frac{27 \\, \\sqrt{3} {\\left(a b - 1\\right)}}{\\pi {\\left(a - 1\\right)}^{3} {\\left(b - 1\\right)}^{3} n^{3}} + O\\Bigg( \\frac{1}{n^{4}} \\Bigg)\\Bigg)\\)</html>"
      ],
      "text/latex": [
       "$\\displaystyle \\frac{3^{n}}{n} \\Bigg( -\\frac{27 \\, \\sqrt{3} {\\left(a b - 1\\right)}}{\\pi {\\left(a - 1\\right)}^{3} {\\left(b - 1\\right)}^{3} n^{3}} + O\\Bigg( \\frac{1}{n^{4}} \\Bigg)\\Bigg)$"
      ],
      "text/plain": [
       "3^n/n \\Bigg( -27*sqrt(3)*(a*b - 1)/(pi*(a - 1)^3*(b - 1)^3*n^3) + O\\Bigg( n^(-4) \\Bigg)\\Bigg)"
      ]
     },
     "execution_count": 11,
     "metadata": {
     },
     "output_type": "execute_result"
    },
    {
     "name": "stdout",
     "output_type": "stream",
     "text": [
      "3^n\n",
      "1/n\n",
      "-27*sqrt(3)*(a*b - 1)/(pi*(a - 1)^3*(b - 1)^3*n^3)\n"
     ]
    }
   ],
   "source": [
    "ex,pw,se = smoothContrib(G,H,r,vars,CP1,4,g)\n",
    "print(\"The asymptotics from the first critical point are:\")\n",
    "disp_asm(ex,pw,se.factor(),M)\n",
    "#Lengthy runtime (~20 minutes)"
   ]
  },
  {
   "cell_type": "code",
   "execution_count": 1,
   "metadata": {
    "collapsed": false
   },
   "outputs": [
   ],
   "source": [
    "# Since there are three critical points on this strata, we calculate the asymptotics for each one\n",
    "# Due to long runtime, these blocks have been commented out.\n",
    "# M=4\n",
    "# ex,pw,se = smoothContrib(G,H,r,vars,CP2,M,g)\n",
    "# print(\"The asymptotics from the second critical point are:\")\n",
    "# disp_asm(ex,pw,se.factor(),M)"
   ]
  },
  {
   "cell_type": "code",
   "execution_count": 2,
   "metadata": {
    "collapsed": false,
    "scrolled": true
   },
   "outputs": [
   ],
   "source": [
    "# M=4\n",
    "# ex,pw,se = smoothContrib(G,H,r,vars,CP3,M,g)\n",
    "# print(\"The asymptotics from the third critical point are:\")\n",
    "# disp_asm(ex,pw,se.factor(),M)"
   ]
  }
 ],
 "metadata": {
  "kernelspec": {
   "argv": [
    "sage-10.2",
    "--python",
    "-m",
    "sage.repl.ipython_kernel",
    "--matplotlib=inline",
    "-f",
    "{connection_file}"
   ],
   "display_name": "SageMath 10.2",
   "env": {
   },
   "language": "sagemath",
   "metadata": {
    "cocalc": {
     "description": "Open-source mathematical software system",
     "priority": 2,
     "url": "https://www.sagemath.org/"
    }
   },
   "name": "sage-10.2",
   "resource_dir": "/ext/jupyter/kernels/sage-10.2"
  },
  "language_info": {
   "codemirror_mode": {
    "name": "ipython",
    "version": 3
   },
   "file_extension": ".py",
   "mimetype": "text/x-python",
   "name": "python",
   "nbconvert_exporter": "python",
   "pygments_lexer": "ipython3",
   "version": "3.10.5"
  }
 },
 "nbformat": 4,
 "nbformat_minor": 4
}